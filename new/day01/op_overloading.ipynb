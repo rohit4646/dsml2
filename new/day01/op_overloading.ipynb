{
 "cells": [
  {
   "cell_type": "code",
   "execution_count": 10,
   "id": "5d9d6727",
   "metadata": {},
   "outputs": [],
   "source": [
    "class Points:\n",
    "    def __init__(self, x, y):\n",
    "        self.x=x\n",
    "        self.y=y\n",
    "    def __add__(self,other):\n",
    "        x=self.x + other.x\n",
    "        y=self.y + other.y\n",
    "        return Points(x,y)\n",
    "    def __sub__(self,other):\n",
    "        x=self.x - other.x\n",
    "        y=self.y - other.y\n",
    "        return Points(x,y)\n",
    "    def __mul__(self,other):\n",
    "        x=self.x * other.x\n",
    "        y=self.y * other.y\n",
    "        return Points(x,y)\n",
    "    def __truediv__(self,other):\n",
    "        x=self.x / other.x\n",
    "        y=self.y / other.y\n",
    "        return Points(x,y)\n",
    "    def __repr__(self): #magic methods\n",
    "        return f\"{self.x, self.y}\"\n"
   ]
  },
  {
   "cell_type": "code",
   "execution_count": 11,
   "id": "4dba83b4",
   "metadata": {},
   "outputs": [],
   "source": [
    "p1=Points(2,3)\n",
    "p2=Points(4,6)"
   ]
  },
  {
   "cell_type": "code",
   "execution_count": 12,
   "id": "3917145a",
   "metadata": {},
   "outputs": [
    {
     "name": "stdout",
     "output_type": "stream",
     "text": [
      "<class '__main__.Points'>\n"
     ]
    }
   ],
   "source": [
    "print(type(p1))"
   ]
  },
  {
   "cell_type": "code",
   "execution_count": 13,
   "id": "df2bd909",
   "metadata": {},
   "outputs": [
    {
     "name": "stdout",
     "output_type": "stream",
     "text": [
      "(6, 9)\n"
     ]
    }
   ],
   "source": [
    "print(p1+ p2)"
   ]
  }
 ],
 "metadata": {
  "kernelspec": {
   "display_name": "Python 3 (ipykernel)",
   "language": "python",
   "name": "python3"
  },
  "language_info": {
   "codemirror_mode": {
    "name": "ipython",
    "version": 3
   },
   "file_extension": ".py",
   "mimetype": "text/x-python",
   "name": "python",
   "nbconvert_exporter": "python",
   "pygments_lexer": "ipython3",
   "version": "3.10.6"
  }
 },
 "nbformat": 4,
 "nbformat_minor": 5
}
