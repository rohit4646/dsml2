{
 "cells": [
  {
   "cell_type": "code",
   "execution_count": 1,
   "id": "297574c3",
   "metadata": {},
   "outputs": [
    {
     "name": "stdout",
     "output_type": "stream",
     "text": [
      "Enter the message:Assuming that the original question was essentially \"I can't branch from an empty repo?\", this is the correct answer because it shows succinctly that it is possible. I also think there is additional value in this answer for situations where a new repo is being populated but policy prevents committing directly to main/master without code review. This avoids the scenario of having to add files to a local branch that will never be merged.\n"
     ]
    }
   ],
   "source": [
    "text_message= input(\"Enter the message:\")"
   ]
  },
  {
   "cell_type": "code",
   "execution_count": 2,
   "id": "f78333b7",
   "metadata": {},
   "outputs": [],
   "source": [
    "def wordlist(message):\n",
    "    lis= message.split()\n",
    "    return lis"
   ]
  },
  {
   "cell_type": "code",
   "execution_count": 3,
   "id": "72d433ae",
   "metadata": {},
   "outputs": [
    {
     "name": "stdout",
     "output_type": "stream",
     "text": [
      "['Assuming', 'that', 'the', 'original', 'question', 'was', 'essentially', '\"I', \"can't\", 'branch', 'from', 'an', 'empty', 'repo?\",', 'this', 'is', 'the', 'correct', 'answer', 'because', 'it', 'shows', 'succinctly', 'that', 'it', 'is', 'possible.', 'I', 'also', 'think', 'there', 'is', 'additional', 'value', 'in', 'this', 'answer', 'for', 'situations', 'where', 'a', 'new', 'repo', 'is', 'being', 'populated', 'but', 'policy', 'prevents', 'committing', 'directly', 'to', 'main/master', 'without', 'code', 'review.', 'This', 'avoids', 'the', 'scenario', 'of', 'having', 'to', 'add', 'files', 'to', 'a', 'local', 'branch', 'that', 'will', 'never', 'be', 'merged.']\n"
     ]
    }
   ],
   "source": [
    "list_of_words= wordlist(text_message)\n",
    "print(list_of_words)\n"
   ]
  },
  {
   "cell_type": "markdown",
   "id": "934496fe",
   "metadata": {},
   "source": [
    "#creating a dictionary\n"
   ]
  },
  {
   "cell_type": "code",
   "execution_count": null,
   "id": "6487aec9",
   "metadata": {},
   "outputs": [],
   "source": []
  }
 ],
 "metadata": {
  "kernelspec": {
   "display_name": "Python 3 (ipykernel)",
   "language": "python",
   "name": "python3"
  },
  "language_info": {
   "codemirror_mode": {
    "name": "ipython",
    "version": 3
   },
   "file_extension": ".py",
   "mimetype": "text/x-python",
   "name": "python",
   "nbconvert_exporter": "python",
   "pygments_lexer": "ipython3",
   "version": "3.10.6"
  }
 },
 "nbformat": 4,
 "nbformat_minor": 5
}
