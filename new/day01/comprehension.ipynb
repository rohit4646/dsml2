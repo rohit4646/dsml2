{
 "cells": [
  {
   "cell_type": "code",
   "execution_count": 1,
   "id": "a96719f2",
   "metadata": {},
   "outputs": [],
   "source": [
    "number= [1,2,3]\n",
    "new_list=[]\n",
    "for num in number:\n",
    "    new_num= num *2\n",
    "    new_list.append(new_num)"
   ]
  },
  {
   "cell_type": "code",
   "execution_count": 2,
   "id": "3975b24c",
   "metadata": {},
   "outputs": [
    {
     "name": "stdout",
     "output_type": "stream",
     "text": [
      "[2, 4, 6]\n"
     ]
    }
   ],
   "source": [
    "print(new_list)"
   ]
  },
  {
   "cell_type": "code",
   "execution_count": 4,
   "id": "7131a93f",
   "metadata": {},
   "outputs": [
    {
     "name": "stdout",
     "output_type": "stream",
     "text": [
      "[3, 6, 9]\n"
     ]
    }
   ],
   "source": [
    "#List comprehension\n",
    "new_list= [item*3 for item in number]\n",
    "print(new_list)"
   ]
  },
  {
   "cell_type": "code",
   "execution_count": 6,
   "id": "92e8bbd7",
   "metadata": {},
   "outputs": [
    {
     "name": "stdout",
     "output_type": "stream",
     "text": [
      "[1, 2, 3, 4, 5, 6, 7, 8, 9]\n"
     ]
    }
   ],
   "source": [
    "new_list2= [i for i in range(1,10)]\n",
    "print(new_list2)"
   ]
  },
  {
   "cell_type": "code",
   "execution_count": 7,
   "id": "f3896e0d",
   "metadata": {},
   "outputs": [
    {
     "name": "stdout",
     "output_type": "stream",
     "text": [
      "[2, 4, 6, 8]\n"
     ]
    }
   ],
   "source": [
    "new_list3=[ i for i in range(1,10) if i%2==0]\n",
    "print(new_list3)"
   ]
  },
  {
   "cell_type": "code",
   "execution_count": 11,
   "id": "f11b14cc",
   "metadata": {},
   "outputs": [
    {
     "name": "stdout",
     "output_type": "stream",
     "text": [
      "['CAROLINE', 'RAMESH']\n"
     ]
    }
   ],
   "source": [
    "names_list= ['Alex',\"Beth\",\"Caroline\",'Ramesh',\"Rishi\"]\n",
    "new_list4=[name.upper() for name in names_list if len(name)>5 ]\n",
    "print(new_list4)"
   ]
  },
  {
   "cell_type": "code",
   "execution_count": 13,
   "id": "b04891e1",
   "metadata": {},
   "outputs": [
    {
     "name": "stdout",
     "output_type": "stream",
     "text": [
      "[3, 5, 7, 11]\n"
     ]
    }
   ],
   "source": [
    "nums1=[2,3,5,7,11,13]\n",
    "nums2=[1,3,5,7,9,11]\n",
    "\n",
    "new_num= [num for num in nums1 if num in nums2]\n",
    "print(new_num)"
   ]
  },
  {
   "cell_type": "code",
   "execution_count": 15,
   "id": "7b12125c",
   "metadata": {},
   "outputs": [
    {
     "data": {
      "text/plain": [
       "'new_dict={new_key, new_value for items in list}'"
      ]
     },
     "execution_count": 15,
     "metadata": {},
     "output_type": "execute_result"
    }
   ],
   "source": [
    "#Dictionary Comprehension\n",
    "\"\"\"new_dict={new_key, new_value for items in list}\"\"\"\n",
    "\"\"\"new_dict={new_key, new_value for items,value in dict.items if test}\"\"\""
   ]
  },
  {
   "cell_type": "code",
   "execution_count": 19,
   "id": "7a03660f",
   "metadata": {},
   "outputs": [
    {
     "name": "stdout",
     "output_type": "stream",
     "text": [
      "{'Alex': 54, 'Beth': 59, 'Caroline': 51, 'Ramesh': 38, 'Rishi': 8}\n"
     ]
    }
   ],
   "source": [
    "import random\n",
    "names_list= ['Alex',\"Beth\",\"Caroline\",'Ramesh',\"Rishi\"]\n",
    "student_scores= {name:random.randint(0,100) for name in names_list}\n",
    "print(student_scores)"
   ]
  },
  {
   "cell_type": "code",
   "execution_count": 20,
   "id": "0d9f0f8d",
   "metadata": {},
   "outputs": [
    {
     "name": "stdout",
     "output_type": "stream",
     "text": [
      "['this', 'is', 'the', 'correct', 'answer', 'because', 'it', 'shows', 'succinctly', 'that', 'it', 'is', 'possible.', 'I', 'also', 'think', 'there', 'is', 'additional', 'value', 'in', 'this', 'answer']\n"
     ]
    }
   ],
   "source": [
    "sentence=\"this is the correct answer because it shows succinctly that it is possible. I also think there is additional value in this answer \"\n",
    "wordlist=sentence.split()\n",
    "print(wordlist)"
   ]
  },
  {
   "cell_type": "code",
   "execution_count": 21,
   "id": "88c3e282",
   "metadata": {},
   "outputs": [
    {
     "name": "stdout",
     "output_type": "stream",
     "text": [
      "{'this': 4, 'is': 2, 'the': 3, 'correct': 7, 'answer': 6, 'because': 7, 'it': 2, 'shows': 5, 'succinctly': 10, 'that': 4, 'possible.': 9, 'I': 1, 'also': 4, 'think': 5, 'there': 5, 'additional': 10, 'value': 5, 'in': 2}\n"
     ]
    }
   ],
   "source": [
    "result={word:len(word) for word in wordlist}\n",
    "print(result)"
   ]
  },
  {
   "cell_type": "code",
   "execution_count": null,
   "id": "45f0c431",
   "metadata": {},
   "outputs": [],
   "source": []
  }
 ],
 "metadata": {
  "kernelspec": {
   "display_name": "Python 3 (ipykernel)",
   "language": "python",
   "name": "python3"
  },
  "language_info": {
   "codemirror_mode": {
    "name": "ipython",
    "version": 3
   },
   "file_extension": ".py",
   "mimetype": "text/x-python",
   "name": "python",
   "nbconvert_exporter": "python",
   "pygments_lexer": "ipython3",
   "version": "3.10.6"
  }
 },
 "nbformat": 4,
 "nbformat_minor": 5
}
