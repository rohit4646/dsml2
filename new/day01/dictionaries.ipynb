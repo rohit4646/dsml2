{
 "cells": [
  {
   "cell_type": "code",
   "execution_count": 1,
   "id": "1602b844",
   "metadata": {},
   "outputs": [
    {
     "name": "stdout",
     "output_type": "stream",
     "text": [
      "value1\n"
     ]
    }
   ],
   "source": [
    "dict = {\n",
    "    \"KEY\" : \"value1\",\n",
    "    \"Nepal\": \"Kathmandu\",\n",
    "    \"population\": 3000000\n",
    "}\n",
    "\n",
    "print(dict['KEY'])\n"
   ]
  },
  {
   "cell_type": "markdown",
   "id": "f438f9c0",
   "metadata": {},
   "source": []
  }
 ],
 "metadata": {
  "kernelspec": {
   "display_name": "Python 3 (ipykernel)",
   "language": "python",
   "name": "python3"
  },
  "language_info": {
   "codemirror_mode": {
    "name": "ipython",
    "version": 3
   },
   "file_extension": ".py",
   "mimetype": "text/x-python",
   "name": "python",
   "nbconvert_exporter": "python",
   "pygments_lexer": "ipython3",
   "version": "3.10.6"
  }
 },
 "nbformat": 4,
 "nbformat_minor": 5
}
