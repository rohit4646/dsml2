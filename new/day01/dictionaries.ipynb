{
 "cells": [
  {
   "cell_type": "code",
   "execution_count": 1,
   "id": "1602b844",
   "metadata": {},
   "outputs": [
    {
     "name": "stdout",
     "output_type": "stream",
     "text": [
      "value1\n"
     ]
    }
   ],
   "source": [
    "dict = {\n",
    "    \"KEY\" : \"value1\",\n",
    "    \"Nepal\": \"Kathmandu\",\n",
    "    \"population\": 3000000\n",
    "}\n",
    "\n",
    "print(dict['KEY'])\n",
    "\n"
   ]
  },
  {
   "cell_type": "code",
   "execution_count": 2,
   "id": "014f7957",
   "metadata": {},
   "outputs": [],
   "source": [
    "dict['Language']= \"nepali\"\n"
   ]
  },
  {
   "cell_type": "code",
   "execution_count": 3,
   "id": "f01b94f6",
   "metadata": {},
   "outputs": [
    {
     "name": "stdout",
     "output_type": "stream",
     "text": [
      "{'KEY': 'value1', 'Nepal': 'Kathmandu', 'population': 3000000, 'Language': 'nepali'}\n"
     ]
    }
   ],
   "source": [
    "print(dict)"
   ]
  },
  {
   "cell_type": "code",
   "execution_count": 5,
   "id": "6eddc904",
   "metadata": {},
   "outputs": [
    {
     "name": "stdout",
     "output_type": "stream",
     "text": [
      "{}\n"
     ]
    }
   ],
   "source": [
    "#creating an empty dictionary\n",
    "\n",
    "capitals={}\n",
    "print(capitals)"
   ]
  },
  {
   "cell_type": "code",
   "execution_count": 6,
   "id": "c4eb38ce",
   "metadata": {},
   "outputs": [
    {
     "name": "stdout",
     "output_type": "stream",
     "text": [
      "{}\n"
     ]
    }
   ],
   "source": [
    "#wiping an entire dictionary\n",
    "dict2={\n",
    "    \"Ram\": \"Thapa\",\n",
    "    \"Hari\": \"Narayan\",\n",
    "    \"Amit\": \"Jha\"\n",
    "}\n",
    "dict2={}\n",
    "print(dict2)"
   ]
  },
  {
   "cell_type": "code",
   "execution_count": 7,
   "id": "d392e79d",
   "metadata": {},
   "outputs": [
    {
     "name": "stdout",
     "output_type": "stream",
     "text": [
      "{'KEY': 'value1', 'Nepal': 'Kathmandu', 'population': 4000000, 'Language': 'nepali'}\n"
     ]
    }
   ],
   "source": [
    "#Editing the value in the dict\n",
    "dict['population']= 4000000\n",
    "print(dict)"
   ]
  },
  {
   "cell_type": "code",
   "execution_count": 8,
   "id": "ddbb68d1",
   "metadata": {},
   "outputs": [
    {
     "name": "stdout",
     "output_type": "stream",
     "text": [
      "KEY\n",
      "Nepal\n",
      "population\n",
      "Language\n"
     ]
    }
   ],
   "source": [
    "#Looping through dict\n",
    "for key in dict:\n",
    "    print(key)"
   ]
  },
  {
   "cell_type": "code",
   "execution_count": 13,
   "id": "5e0db0b9",
   "metadata": {},
   "outputs": [
    {
     "name": "stdout",
     "output_type": "stream",
     "text": [
      "value1\n",
      "Kathmandu\n",
      "4000000\n",
      "nepali\n"
     ]
    }
   ],
   "source": [
    "for x in dict:\n",
    "    print(dict[x])\n",
    "    "
   ]
  },
  {
   "cell_type": "code",
   "execution_count": 14,
   "id": "86268d7a",
   "metadata": {},
   "outputs": [],
   "source": [
    "#Grading Systen \n",
    "student_scores={\n",
    "    \"Harry\": 80,\n",
    "    \"Ram\": 95,\n",
    "    \"Jesus\": 65,\n",
    "    \"Prop\": 45\n",
    "}"
   ]
  },
  {
   "cell_type": "code",
   "execution_count": 15,
   "id": "a824c279",
   "metadata": {},
   "outputs": [],
   "source": [
    "students_g={}"
   ]
  },
  {
   "cell_type": "code",
   "execution_count": 17,
   "id": "ac85bd80",
   "metadata": {},
   "outputs": [],
   "source": [
    "for x in student_scores:\n",
    "    if (student_scores[x] > 50):\n",
    "        students_g[x]=\"Pass\"\n",
    "    else:\n",
    "        students_g[x]=\"Fail\"\n",
    "\n",
    "        "
   ]
  },
  {
   "cell_type": "code",
   "execution_count": 20,
   "id": "280fbe1a",
   "metadata": {},
   "outputs": [
    {
     "name": "stdout",
     "output_type": "stream",
     "text": [
      "{'Harry': 'Pass', 'Ram': 'Pass', 'Jesus': 'Pass', 'Prop': 'Fail'}\n"
     ]
    }
   ],
   "source": [
    "print(students_g)"
   ]
  },
  {
   "cell_type": "code",
   "execution_count": 21,
   "id": "429b84da",
   "metadata": {},
   "outputs": [],
   "source": [
    "#NESTING\n",
    "#List in Dictionary\n",
    "my_travel={\n",
    "    \"country\":\"India\",\n",
    "    \"cities\":['Banglore', 'chennai', 'delhi'],\n",
    "    'days':10\n",
    "}"
   ]
  },
  {
   "cell_type": "code",
   "execution_count": 23,
   "id": "983f0948",
   "metadata": {},
   "outputs": [],
   "source": [
    "#dictionary in dictionary\n",
    "travrl_log={\n",
    "    \"Rishi\":{\n",
    "    \"country\":\"India\",\n",
    "    \"cities\":['Banglore', 'chennai', 'delhi'],\n",
    "    'days':10\n",
    "    },\n",
    "    \"Subham\":{\n",
    "    \"country\":\"china\",\n",
    "    \"cities\":['Beijing', 'Shanghai', \"Hanoi\",\"Guanzhao\"],\n",
    "    'days':17\n",
    "    }\n",
    "    }"
   ]
  },
  {
   "cell_type": "code",
   "execution_count": 26,
   "id": "546f0cb2",
   "metadata": {},
   "outputs": [
    {
     "name": "stdout",
     "output_type": "stream",
     "text": [
      "{'country': 'India', 'cities': ['Banglore', 'chennai', 'delhi'], 'days': 10}\n",
      "{'country': 'china', 'cities': ['Beijing', 'Shanghai', 'Hanoi', 'Guanzhao'], 'days': 17}\n"
     ]
    }
   ],
   "source": [
    "for key in travrl_log:\n",
    "    print(travrl_log[key])"
   ]
  },
  {
   "cell_type": "code",
   "execution_count": 28,
   "id": "845689a3",
   "metadata": {},
   "outputs": [],
   "source": [
    "#Nesting Dict in List\n",
    "\n",
    "travel_log2=[\n",
    "    {\n",
    "    \"name\":\"Rishi\",\n",
    "    \"country\":\"India\",\n",
    "    \"cities\":['Banglore', 'chennai', 'delhi'],\n",
    "    'days':10\n",
    "    },\n",
    "    {\n",
    "    \"name\":\"Subham\",\n",
    "    \"country\":\"china\",\n",
    "    \"cities\":['Beijing', 'Shanghai', \"Hanoi\",\"Guanzhao\"],\n",
    "    'days':17\n",
    "    }\n",
    "]"
   ]
  },
  {
   "cell_type": "code",
   "execution_count": 29,
   "id": "ba8dd648",
   "metadata": {},
   "outputs": [],
   "source": [
    "def add_log(name,country,cities,stay):\n",
    "    add_data={}\n",
    "    add_data[\"name\"]=name\n",
    "    add_data[\"country\"]=country\n",
    "    add_data[\"cities\"]=cities\n",
    "    add_data['days']=stay\n",
    "    travel_log2.append(add_data)\n",
    "    "
   ]
  },
  {
   "cell_type": "code",
   "execution_count": 30,
   "id": "fc007bc6",
   "metadata": {},
   "outputs": [
    {
     "name": "stdout",
     "output_type": "stream",
     "text": [
      "[{'name': 'Rishi', 'country': 'India', 'cities': ['Banglore', 'chennai', 'delhi'], 'days': 10}, {'name': 'Subham', 'country': 'china', 'cities': ['Beijing', 'Shanghai', 'Hanoi', 'Guanzhao'], 'days': 17}, {'name': 'Rohit', 'country': 'Japan', 'cities': ['Tokyo', 'Osaka', 'Hiroshima'], 'days': 12}]\n"
     ]
    }
   ],
   "source": [
    "add_log(\"Rohit\",\"Japan\",[\"Tokyo\",\"Osaka\",\"Hiroshima\"],12)\n",
    "print(travel_log2)"
   ]
  },
  {
   "cell_type": "code",
   "execution_count": null,
   "id": "11e8d374",
   "metadata": {},
   "outputs": [],
   "source": []
  }
 ],
 "metadata": {
  "kernelspec": {
   "display_name": "Python 3 (ipykernel)",
   "language": "python",
   "name": "python3"
  },
  "language_info": {
   "codemirror_mode": {
    "name": "ipython",
    "version": 3
   },
   "file_extension": ".py",
   "mimetype": "text/x-python",
   "name": "python",
   "nbconvert_exporter": "python",
   "pygments_lexer": "ipython3",
   "version": "3.10.6"
  }
 },
 "nbformat": 4,
 "nbformat_minor": 5
}
