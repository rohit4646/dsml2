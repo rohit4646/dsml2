{
 "cells": [
  {
   "cell_type": "code",
   "execution_count": 1,
   "id": "8967b4ee",
   "metadata": {},
   "outputs": [
    {
     "name": "stdout",
     "output_type": "stream",
     "text": [
      "enter a num:ram\n"
     ]
    },
    {
     "ename": "ValueError",
     "evalue": "invalid literal for int() with base 10: 'ram'",
     "output_type": "error",
     "traceback": [
      "\u001b[1;31m---------------------------------------------------------------------------\u001b[0m",
      "\u001b[1;31mValueError\u001b[0m                                Traceback (most recent call last)",
      "Cell \u001b[1;32mIn[1], line 1\u001b[0m\n\u001b[1;32m----> 1\u001b[0m a\u001b[38;5;241m=\u001b[39m \u001b[38;5;28;43mint\u001b[39;49m\u001b[43m(\u001b[49m\u001b[38;5;28;43minput\u001b[39;49m\u001b[43m(\u001b[49m\u001b[38;5;124;43m\"\u001b[39;49m\u001b[38;5;124;43menter a num:\u001b[39;49m\u001b[38;5;124;43m\"\u001b[39;49m\u001b[43m)\u001b[49m\u001b[43m)\u001b[49m\n\u001b[0;32m      2\u001b[0m \u001b[38;5;28mprint\u001b[39m(a)\n",
      "\u001b[1;31mValueError\u001b[0m: invalid literal for int() with base 10: 'ram'"
     ]
    }
   ],
   "source": [
    "a= int(input(\"enter a num:\"))\n",
    "print(a)"
   ]
  },
  {
   "cell_type": "code",
   "execution_count": 2,
   "id": "4215dd24",
   "metadata": {},
   "outputs": [
    {
     "name": "stdout",
     "output_type": "stream",
     "text": [
      "enter a num:ram\n",
      "Please Enter correct data type. int or float\n"
     ]
    }
   ],
   "source": [
    "try:\n",
    "    a= int(input(\"enter a num:\"))\n",
    "    print(a)\n",
    "except ValueError:\n",
    "    print(\"Please Enter correct data type. int or float\")"
   ]
  },
  {
   "cell_type": "code",
   "execution_count": 3,
   "id": "22ce23c8",
   "metadata": {},
   "outputs": [
    {
     "name": "stdout",
     "output_type": "stream",
     "text": [
      "enter a num:3\n",
      "enter a num:0\n"
     ]
    },
    {
     "ename": "ZeroDivisionError",
     "evalue": "division by zero",
     "output_type": "error",
     "traceback": [
      "\u001b[1;31m---------------------------------------------------------------------------\u001b[0m",
      "\u001b[1;31mZeroDivisionError\u001b[0m                         Traceback (most recent call last)",
      "Cell \u001b[1;32mIn[3], line 4\u001b[0m\n\u001b[0;32m      2\u001b[0m     a\u001b[38;5;241m=\u001b[39m \u001b[38;5;28mint\u001b[39m(\u001b[38;5;28minput\u001b[39m(\u001b[38;5;124m\"\u001b[39m\u001b[38;5;124menter a num:\u001b[39m\u001b[38;5;124m\"\u001b[39m))\n\u001b[0;32m      3\u001b[0m     b\u001b[38;5;241m=\u001b[39m \u001b[38;5;28mint\u001b[39m(\u001b[38;5;28minput\u001b[39m(\u001b[38;5;124m\"\u001b[39m\u001b[38;5;124menter a num:\u001b[39m\u001b[38;5;124m\"\u001b[39m))\n\u001b[1;32m----> 4\u001b[0m     \u001b[38;5;28mprint\u001b[39m(\u001b[43ma\u001b[49m\u001b[38;5;241;43m/\u001b[39;49m\u001b[43mb\u001b[49m)\n\u001b[0;32m      6\u001b[0m \u001b[38;5;28;01mexcept\u001b[39;00m \u001b[38;5;167;01mValueError\u001b[39;00m:\n\u001b[0;32m      7\u001b[0m     \u001b[38;5;28mprint\u001b[39m(\u001b[38;5;124m\"\u001b[39m\u001b[38;5;124mPlease Enter correct data type. int or float\u001b[39m\u001b[38;5;124m\"\u001b[39m)\n",
      "\u001b[1;31mZeroDivisionError\u001b[0m: division by zero"
     ]
    }
   ],
   "source": [
    "try:\n",
    "    a= int(input(\"enter a num:\"))\n",
    "    b= int(input(\"enter a num:\"))\n",
    "    print(a/b)\n",
    "    \n",
    "except ValueError:\n",
    "    print(\"Please Enter correct data type. int or float\")\n"
   ]
  },
  {
   "cell_type": "code",
   "execution_count": 4,
   "id": "b471a385",
   "metadata": {},
   "outputs": [
    {
     "name": "stdout",
     "output_type": "stream",
     "text": [
      "enter a num:3\n",
      "enter a num:0\n",
      "Please dont enter 0\n"
     ]
    }
   ],
   "source": [
    "try:\n",
    "    a= int(input(\"enter a num:\"))\n",
    "    b= int(input(\"enter a num:\"))\n",
    "    print(a/b)\n",
    "    \n",
    "except ValueError:\n",
    "    print(\"Please Enter correct data type. int or float\")\n",
    "except ZeroDivisionError:\n",
    "    print(\"Please dont enter 0\")"
   ]
  },
  {
   "cell_type": "code",
   "execution_count": 6,
   "id": "d22cb216",
   "metadata": {},
   "outputs": [
    {
     "name": "stdout",
     "output_type": "stream",
     "text": [
      "enter a num:4\n",
      "enter a num:shyam\n",
      "An error occured\n",
      "Everthing is fine\n"
     ]
    }
   ],
   "source": [
    "try:\n",
    "    a= int(input(\"enter a num:\"))\n",
    "    b= int(input(\"enter a num:\"))\n",
    "    c= (a/b)\n",
    "    \n",
    "except (ValueError,ZeroDivisionError):\n",
    "    print(\"An error occured\")\n",
    "else:\n",
    "    print(\"Result is\",c)\n",
    "finally:\n",
    "    print(\"Everthing is fine\")\n",
    "    "
   ]
  },
  {
   "cell_type": "code",
   "execution_count": null,
   "id": "dc126882",
   "metadata": {},
   "outputs": [],
   "source": [
    "#raise\n",
    "raise Exception_type(\" Your message\")\n",
    "Exception Type = KeyError, Value Error, ..."
   ]
  },
  {
   "cell_type": "code",
   "execution_count": null,
   "id": "740335a9",
   "metadata": {},
   "outputs": [],
   "source": [
    "a= int(input(\"Enter a number\"))\n",
    "if a < 10:\n",
    "    raise ValueError(\"not satisfied\")\n",
    "elif a != 'int':\n",
    "    raise TypeError(\"Only int supported\")"
   ]
  },
  {
   "cell_type": "code",
   "execution_count": null,
   "id": "15d83062",
   "metadata": {},
   "outputs": [],
   "source": [
    "x = \"hello\"\n",
    "\n",
    "if not type(x) is int:\n",
    "  raise TypeError(\"Only integers are allowed\")\n"
   ]
  },
  {
   "cell_type": "code",
   "execution_count": null,
   "id": "b3c3e5eb",
   "metadata": {},
   "outputs": [],
   "source": [
    "print(\"hello\")"
   ]
  }
 ],
 "metadata": {
  "kernelspec": {
   "display_name": "Python 3 (ipykernel)",
   "language": "python",
   "name": "python3"
  },
  "language_info": {
   "codemirror_mode": {
    "name": "ipython",
    "version": 3
   },
   "file_extension": ".py",
   "mimetype": "text/x-python",
   "name": "python",
   "nbconvert_exporter": "python",
   "pygments_lexer": "ipython3",
   "version": "3.10.6"
  }
 },
 "nbformat": 4,
 "nbformat_minor": 5
}
