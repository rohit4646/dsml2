{
 "cells": [
  {
   "cell_type": "code",
   "execution_count": 6,
   "id": "67b27eae",
   "metadata": {},
   "outputs": [
    {
     "name": "stdout",
     "output_type": "stream",
     "text": [
      "<__main__.dog object at 0x000001D6DCFEA4A0>\n"
     ]
    }
   ],
   "source": [
    "class dog:\n",
    "    def __init__(self,name,breed):\n",
    "        self.nameis= name\n",
    "        self.breedis= breed\n",
    "    def bark(self):\n",
    "        print(\"Bhaw Bhaw ..\")\n",
    "my_dog= dog('Tom', 'GS')\n",
    "print(my_dog)\n",
    "    "
   ]
  },
  {
   "cell_type": "code",
   "execution_count": 7,
   "id": "f70b4574",
   "metadata": {},
   "outputs": [
    {
     "name": "stdout",
     "output_type": "stream",
     "text": [
      "Bhaw Bhaw ..\n"
     ]
    }
   ],
   "source": [
    "my_dog.bark()"
   ]
  },
  {
   "cell_type": "code",
   "execution_count": null,
   "id": "26e74a17",
   "metadata": {},
   "outputs": [],
   "source": []
  },
  {
   "cell_type": "code",
   "execution_count": 14,
   "id": "63d678e9",
   "metadata": {},
   "outputs": [],
   "source": [
    "class Person:\n",
    "    count= 0\n",
    "    \n",
    "    def __init__(self, name):\n",
    "        self.name=  name\n",
    "        Person.count += 1\n",
    "        \n",
    "    @classmethod\n",
    "    def get_count(cls):\n",
    "        return cls.count\n",
    "    \n",
    "    @staticmethod\n",
    "    def get_full_name(fn,ln):\n",
    "        return f'{fn} {ln}'"
   ]
  },
  {
   "cell_type": "code",
   "execution_count": 15,
   "id": "13c07db2",
   "metadata": {},
   "outputs": [],
   "source": [
    "my_p= Person('Rohit')"
   ]
  },
  {
   "cell_type": "code",
   "execution_count": 16,
   "id": "606a3dca",
   "metadata": {},
   "outputs": [
    {
     "data": {
      "text/plain": [
       "'Ramesh Kast'"
      ]
     },
     "execution_count": 16,
     "metadata": {},
     "output_type": "execute_result"
    }
   ],
   "source": [
    "my_p.get_full_name('Ramesh', 'Kast')"
   ]
  },
  {
   "cell_type": "code",
   "execution_count": 18,
   "id": "d06932cb",
   "metadata": {},
   "outputs": [
    {
     "name": "stdout",
     "output_type": "stream",
     "text": [
      "Ramesh Kast\n"
     ]
    }
   ],
   "source": [
    "print(my_p.get_full_name('Ramesh', 'Kast'))"
   ]
  },
  {
   "cell_type": "code",
   "execution_count": 19,
   "id": "6c1e5e66",
   "metadata": {},
   "outputs": [
    {
     "name": "stdout",
     "output_type": "stream",
     "text": [
      "1\n"
     ]
    }
   ],
   "source": [
    "print(my_p.get_count())"
   ]
  },
  {
   "cell_type": "code",
   "execution_count": 20,
   "id": "2658ecfe",
   "metadata": {},
   "outputs": [
    {
     "name": "stdout",
     "output_type": "stream",
     "text": [
      "1\n"
     ]
    }
   ],
   "source": [
    "print(Person.get_count())"
   ]
  },
  {
   "cell_type": "code",
   "execution_count": 21,
   "id": "6108999a",
   "metadata": {},
   "outputs": [],
   "source": [
    "person2=Person(\"Ramu\")"
   ]
  },
  {
   "cell_type": "code",
   "execution_count": 22,
   "id": "7adf02fb",
   "metadata": {},
   "outputs": [
    {
     "name": "stdout",
     "output_type": "stream",
     "text": [
      "2\n"
     ]
    }
   ],
   "source": [
    "print(my_p.get_count())"
   ]
  },
  {
   "cell_type": "markdown",
   "id": "e34f21e8",
   "metadata": {},
   "source": [
    "#inheritance\n",
    "...."
   ]
  },
  {
   "cell_type": "markdown",
   "id": "82abb65a",
   "metadata": {},
   "source": [
    "#encapsulation\n"
   ]
  },
  {
   "cell_type": "code",
   "execution_count": null,
   "id": "a1ff403c",
   "metadata": {},
   "outputs": [],
   "source": []
  }
 ],
 "metadata": {
  "kernelspec": {
   "display_name": "Python 3 (ipykernel)",
   "language": "python",
   "name": "python3"
  },
  "language_info": {
   "codemirror_mode": {
    "name": "ipython",
    "version": 3
   },
   "file_extension": ".py",
   "mimetype": "text/x-python",
   "name": "python",
   "nbconvert_exporter": "python",
   "pygments_lexer": "ipython3",
   "version": "3.10.6"
  }
 },
 "nbformat": 4,
 "nbformat_minor": 5
}
