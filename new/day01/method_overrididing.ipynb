{
 "cells": [
  {
   "cell_type": "markdown",
   "id": "47e00d43",
   "metadata": {},
   "source": [
    "Method over riding occurs when there are two methods of same name nd same number of arguments. It is two same named method in different class. Usually one class is inherited from the other one.\n"
   ]
  },
  {
   "cell_type": "code",
   "execution_count": 3,
   "id": "60e5dc1a",
   "metadata": {},
   "outputs": [],
   "source": [
    "class A:\n",
    "    def show(self):\n",
    "        print(\"In A show\")\n",
    "class B(A):\n",
    "    pass\n",
    "\n",
    "b=B()"
   ]
  },
  {
   "cell_type": "code",
   "execution_count": 4,
   "id": "8aebd840",
   "metadata": {},
   "outputs": [
    {
     "name": "stdout",
     "output_type": "stream",
     "text": [
      "In A show\n"
     ]
    }
   ],
   "source": [
    "b.show()"
   ]
  },
  {
   "cell_type": "code",
   "execution_count": 5,
   "id": "b467b6f6",
   "metadata": {},
   "outputs": [],
   "source": [
    "a=A() #creating an instance of object"
   ]
  },
  {
   "cell_type": "code",
   "execution_count": 6,
   "id": "00f47f04",
   "metadata": {},
   "outputs": [],
   "source": [
    "class A:\n",
    "    def show(self):\n",
    "        print(\"In A show\")\n",
    "class B(A):\n",
    "    def show(self):\n",
    "        print(\"in B show\")\n",
    "\n",
    "b=B()"
   ]
  },
  {
   "cell_type": "code",
   "execution_count": 7,
   "id": "57615311",
   "metadata": {},
   "outputs": [
    {
     "name": "stdout",
     "output_type": "stream",
     "text": [
      "in B show\n"
     ]
    }
   ],
   "source": [
    "b.show()"
   ]
  },
  {
   "cell_type": "code",
   "execution_count": 26,
   "id": "fe6e849a",
   "metadata": {},
   "outputs": [],
   "source": [
    "class Area:\n",
    "    def ans(self,x,y):\n",
    "        return x*y\n",
    "    \n",
    "class Triangle(Area):\n",
    "    def ans(self,x,y):\n",
    "        return(0.5*x*y)\n",
    "    \n",
    "class Circle(Area):\n",
    "    def ans(self,x):\n",
    "        return(3.14*x*x)\n",
    "    \n",
    "class Rectangle(Area):\n",
    "    pass\n",
    "\n",
    "    "
   ]
  },
  {
   "cell_type": "code",
   "execution_count": 9,
   "id": "7ebc9952",
   "metadata": {},
   "outputs": [],
   "source": [
    "t1=Triangle()"
   ]
  },
  {
   "cell_type": "code",
   "execution_count": 12,
   "id": "11c0ba9a",
   "metadata": {},
   "outputs": [
    {
     "data": {
      "text/plain": [
       "6.0"
      ]
     },
     "execution_count": 12,
     "metadata": {},
     "output_type": "execute_result"
    }
   ],
   "source": [
    "t1.ans(3,4)"
   ]
  },
  {
   "cell_type": "code",
   "execution_count": 16,
   "id": "5cc22769",
   "metadata": {},
   "outputs": [],
   "source": [
    "c=Circle()"
   ]
  },
  {
   "cell_type": "code",
   "execution_count": 17,
   "id": "19374af3",
   "metadata": {},
   "outputs": [
    {
     "data": {
      "text/plain": [
       "50.24"
      ]
     },
     "execution_count": 17,
     "metadata": {},
     "output_type": "execute_result"
    }
   ],
   "source": [
    "c.ans(4)"
   ]
  },
  {
   "cell_type": "code",
   "execution_count": 27,
   "id": "9d3eacba",
   "metadata": {},
   "outputs": [],
   "source": [
    "r=Rectangle()"
   ]
  },
  {
   "cell_type": "code",
   "execution_count": 28,
   "id": "368386bf",
   "metadata": {},
   "outputs": [
    {
     "data": {
      "text/plain": [
       "20"
      ]
     },
     "execution_count": 28,
     "metadata": {},
     "output_type": "execute_result"
    }
   ],
   "source": [
    "r.ans(4,5)"
   ]
  },
  {
   "cell_type": "code",
   "execution_count": 29,
   "id": "1d592a55",
   "metadata": {},
   "outputs": [
    {
     "ename": "TypeError",
     "evalue": "Circle.ans() takes 2 positional arguments but 3 were given",
     "output_type": "error",
     "traceback": [
      "\u001b[1;31m---------------------------------------------------------------------------\u001b[0m",
      "\u001b[1;31mTypeError\u001b[0m                                 Traceback (most recent call last)",
      "Cell \u001b[1;32mIn[29], line 1\u001b[0m\n\u001b[1;32m----> 1\u001b[0m \u001b[43mc\u001b[49m\u001b[38;5;241;43m.\u001b[39;49m\u001b[43mans\u001b[49m\u001b[43m(\u001b[49m\u001b[38;5;241;43m2\u001b[39;49m\u001b[43m,\u001b[49m\u001b[38;5;241;43m3\u001b[39;49m\u001b[43m)\u001b[49m\n",
      "\u001b[1;31mTypeError\u001b[0m: Circle.ans() takes 2 positional arguments but 3 were given"
     ]
    }
   ],
   "source": [
    "c.ans(2,3)"
   ]
  },
  {
   "cell_type": "markdown",
   "id": "595bd740",
   "metadata": {},
   "source": [
    "child overides the method of parent if the child is inherited from the parent and have same method names."
   ]
  },
  {
   "cell_type": "markdown",
   "id": "e5950979",
   "metadata": {},
   "source": [
    "Multilevel method overriding\n",
    "It can  be attained by two means .\n"
   ]
  },
  {
   "cell_type": "code",
   "execution_count": 35,
   "id": "6b26e551",
   "metadata": {},
   "outputs": [
    {
     "name": "stdout",
     "output_type": "stream",
     "text": [
      "This is init\n"
     ]
    }
   ],
   "source": [
    "class A:\n",
    "    def show(self):\n",
    "        print(\"In A show\")\n",
    "class B(A):\n",
    "    def __init__(self):\n",
    "        print('This is init')\n",
    "    def show(self):\n",
    "        A.show(self)\n",
    "        print(\"in B show\")\n",
    "\n",
    "b=B()"
   ]
  },
  {
   "cell_type": "code",
   "execution_count": 36,
   "id": "83ab09ab",
   "metadata": {},
   "outputs": [
    {
     "name": "stdout",
     "output_type": "stream",
     "text": [
      "In A show\n",
      "in B show\n"
     ]
    }
   ],
   "source": [
    "b.show()"
   ]
  },
  {
   "cell_type": "markdown",
   "id": "e8017147",
   "metadata": {},
   "source": [
    "Using Super key"
   ]
  },
  {
   "cell_type": "code",
   "execution_count": null,
   "id": "d5651f0d",
   "metadata": {},
   "outputs": [],
   "source": []
  }
 ],
 "metadata": {
  "kernelspec": {
   "display_name": "Python 3 (ipykernel)",
   "language": "python",
   "name": "python3"
  },
  "language_info": {
   "codemirror_mode": {
    "name": "ipython",
    "version": 3
   },
   "file_extension": ".py",
   "mimetype": "text/x-python",
   "name": "python",
   "nbconvert_exporter": "python",
   "pygments_lexer": "ipython3",
   "version": "3.10.6"
  }
 },
 "nbformat": 4,
 "nbformat_minor": 5
}
