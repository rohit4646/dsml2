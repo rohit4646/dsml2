{
 "cells": [
  {
   "attachments": {},
   "cell_type": "markdown",
   "id": "60eaa87a",
   "metadata": {},
   "source": []
  },
  {
   "cell_type": "code",
   "execution_count": 2,
   "id": "297574c3",
   "metadata": {},
   "outputs": [
    {
     "name": "stdout",
     "output_type": "stream",
     "text": [
      "Enter the message:The IPL headquarters are situated inside the Cricket Centre next to the Wankhede Stadium in Churchgate, Mumbai. The IPL Governing Council is responsible for all the functions including organising the tournament. Its members are The IPL headquarters are situated inside the Cricket Centre next to the Wankhede Stadium in Churchgate, Mumbai. The IPL Governing Council is responsible for all the functions including organising the tournament. Its members are\n"
     ]
    }
   ],
   "source": [
    "text_message= input(\"Enter the message:\")"
   ]
  },
  {
   "cell_type": "code",
   "execution_count": 3,
   "id": "f78333b7",
   "metadata": {},
   "outputs": [],
   "source": [
    "def wordlist(message):\n",
    "    lis= message.split()\n",
    "    return lis"
   ]
  },
  {
   "cell_type": "code",
   "execution_count": 4,
   "id": "72d433ae",
   "metadata": {},
   "outputs": [
    {
     "name": "stdout",
     "output_type": "stream",
     "text": [
      "['The', 'IPL', 'headquarters', 'are', 'situated', 'inside', 'the', 'Cricket', 'Centre', 'next', 'to', 'the', 'Wankhede', 'Stadium', 'in', 'Churchgate,', 'Mumbai.', 'The', 'IPL', 'Governing', 'Council', 'is', 'responsible', 'for', 'all', 'the', 'functions', 'including', 'organising', 'the', 'tournament.', 'Its', 'members', 'are', 'The', 'IPL', 'headquarters', 'are', 'situated', 'inside', 'the', 'Cricket', 'Centre', 'next', 'to', 'the', 'Wankhede', 'Stadium', 'in', 'Churchgate,', 'Mumbai.', 'The', 'IPL', 'Governing', 'Council', 'is', 'responsible', 'for', 'all', 'the', 'functions', 'including', 'organising', 'the', 'tournament.', 'Its', 'members', 'are']\n"
     ]
    }
   ],
   "source": [
    "list_of_words= wordlist(text_message)\n",
    "print(list_of_words)\n"
   ]
  },
  {
   "cell_type": "markdown",
   "id": "934496fe",
   "metadata": {},
   "source": [
    "#creating a dictionary that maps each unique word to the number of times it appeared on text\n"
   ]
  },
  {
   "cell_type": "code",
   "execution_count": 7,
   "id": "6487aec9",
   "metadata": {},
   "outputs": [],
   "source": [
    "new_dict={}"
   ]
  },
  {
   "cell_type": "code",
   "execution_count": 11,
   "id": "e61b5845",
   "metadata": {},
   "outputs": [
    {
     "name": "stdout",
     "output_type": "stream",
     "text": [
      "{'The': 4, 'headquarters': 2, 'are': 1, 'situated': 2, 'inside': 2, 'the': 8, 'Cricket': 0, 'Centre': 2, 'next': 2, 'to': 2, 'Wankhede': 2, 'Stadium': 2, 'in': 2, 'Churchgate,': 2, 'Mumbai.': 2, 'Governing': 2, 'Council': 0, 'is': 2, 'responsible': 2, 'for': 2, 'all': 2, 'functions': 2, 'including': 0, 'organising': 2, 'tournament.': 2, 'Its': 2, 'members': 2, 'IPL': 4}\n"
     ]
    }
   ],
   "source": [
    "for word in list_of_words:\n",
    "    present= word\n",
    "    count=0\n",
    "    for y in list_of_words:\n",
    "        if present==y:\n",
    "            count += 1\n",
    "            list_of_words.remove(y)\n",
    "        new_dict[y]= count\n",
    "        \n",
    "print(new_dict)\n",
    "        \n",
    "\n",
    "        \n",
    "        \n",
    "        \n",
    "    "
   ]
  },
  {
   "cell_type": "code",
   "execution_count": 12,
   "id": "9597ba37",
   "metadata": {},
   "outputs": [
    {
     "name": "stdout",
     "output_type": "stream",
     "text": [
      "('The', 'headquarters', 'are', 'situated', 'inside', 'the', 'Cricket', 'Centre', 'next', 'to', 'Wankhede', 'Stadium', 'in', 'Churchgate,', 'Mumbai.', 'Governing', 'Council', 'is', 'responsible', 'for', 'all', 'functions', 'including', 'organising', 'tournament.', 'Its', 'members', 'IPL')\n"
     ]
    }
   ],
   "source": [
    "print(tuple(new_dict))"
   ]
  },
  {
   "cell_type": "code",
   "execution_count": 17,
   "id": "69de3dc6",
   "metadata": {},
   "outputs": [
    {
     "ename": "AttributeError",
     "evalue": "'dict' object has no attribute 'remove'",
     "output_type": "error",
     "traceback": [
      "\u001b[1;31m---------------------------------------------------------------------------\u001b[0m",
      "\u001b[1;31mAttributeError\u001b[0m                            Traceback (most recent call last)",
      "Cell \u001b[1;32mIn[17], line 11\u001b[0m\n\u001b[0;32m      9\u001b[0m     \u001b[38;5;28;01melse\u001b[39;00m:\n\u001b[0;32m     10\u001b[0m         maxi\u001b[38;5;241m=\u001b[39mcurrent\n\u001b[1;32m---> 11\u001b[0m \u001b[43mnew_dict\u001b[49m\u001b[38;5;241;43m.\u001b[39;49m\u001b[43mremove\u001b[49m(key)\n\u001b[0;32m     13\u001b[0m top_5[key]\u001b[38;5;241m=\u001b[39mmaxi\n",
      "\u001b[1;31mAttributeError\u001b[0m: 'dict' object has no attribute 'remove'"
     ]
    }
   ],
   "source": [
    "top_5={}\n",
    "for i in range(0,5):\n",
    "    for key in new_dict:\n",
    "        maxi=0\n",
    "        current= new_dict[key]\n",
    "        for key2 in new_dict:\n",
    "            if new_dict[key2]> current:\n",
    "                maxi=new_dict[key2]\n",
    "            else:\n",
    "                maxi=current\n",
    "        top_5[key]=maxi\n",
    "\n",
    "\n",
    "            \n",
    " "
   ]
  },
  {
   "cell_type": "code",
   "execution_count": 16,
   "id": "88598324",
   "metadata": {},
   "outputs": [
    {
     "name": "stdout",
     "output_type": "stream",
     "text": [
      "{'The': 4, 'headquarters': 4, 'are': 4, 'situated': 4, 'inside': 4, 'the': 8, 'Cricket': 4, 'Centre': 4, 'next': 4, 'to': 4, 'Wankhede': 4, 'Stadium': 4, 'in': 4, 'Churchgate,': 4, 'Mumbai.': 4, 'Governing': 4, 'Council': 4, 'is': 4, 'responsible': 4, 'for': 4, 'all': 4, 'functions': 4, 'including': 4, 'organising': 4, 'tournament.': 4, 'Its': 4, 'members': 4, 'IPL': 4}\n"
     ]
    }
   ],
   "source": [
    "print(top_5)"
   ]
  }
 ],
 "metadata": {
  "kernelspec": {
   "display_name": "Python 3 (ipykernel)",
   "language": "python",
   "name": "python3"
  },
  "language_info": {
   "codemirror_mode": {
    "name": "ipython",
    "version": 3
   },
   "file_extension": ".py",
   "mimetype": "text/x-python",
   "name": "python",
   "nbconvert_exporter": "python",
   "pygments_lexer": "ipython3",
   "version": "3.10.6"
  }
 },
 "nbformat": 4,
 "nbformat_minor": 5
}
